{
 "cells": [
  {
   "cell_type": "code",
   "execution_count": 5,
   "id": "d4c1cbad",
   "metadata": {},
   "outputs": [],
   "source": [
    "import torch\n",
    "import torch.nn as nn\n",
    "import torch.optim as optim\n",
    "import torch.utils.data as data\n",
    "import random"
   ]
  },
  {
   "cell_type": "code",
   "execution_count": 114,
   "id": "ef628fbf",
   "metadata": {},
   "outputs": [],
   "source": [
    "class LocalTransformer(nn.Transformer):\n",
    "    def __init__(self, *args, **kwargs):\n",
    "        super(LocalTransformer, self).__init__(*args, **kwargs)\n",
    "    \n",
    "    def generate_square_subsequent_mask(self, sz: int, local_window_size: int) -> torch.Tensor:\n",
    "        mask = torch.ones(sz, sz)\n",
    "        mask = torch.tril(mask, diagonal=0)\n",
    "        mask = torch.triu(mask, diagonal=1 - local_window_size)\n",
    "        mask = mask.masked_fill(mask == 0, float('-inf')).masked_fill(mask == 1, float(0.0))\n",
    "        return mask"
   ]
  },
  {
   "cell_type": "code",
   "execution_count": 115,
   "id": "d77a7d84",
   "metadata": {},
   "outputs": [
    {
     "name": "stdout",
     "output_type": "stream",
     "text": [
      "Epoch 1/10, Loss: 2.3034982681274414\n",
      "Epoch 2/10, Loss: 2.315067768096924\n",
      "Epoch 3/10, Loss: 2.3155112266540527\n",
      "Epoch 4/10, Loss: 2.329038619995117\n",
      "Epoch 5/10, Loss: 2.219697952270508\n",
      "Epoch 6/10, Loss: 2.1946301460266113\n",
      "Epoch 7/10, Loss: 2.208533763885498\n",
      "Epoch 8/10, Loss: 2.141535997390747\n",
      "Epoch 9/10, Loss: 2.1182942390441895\n",
      "Epoch 10/10, Loss: 2.0858349800109863\n"
     ]
    }
   ],
   "source": [
    "# Generate a toy dataset\n",
    "def generate_data(num_samples, seq_len):\n",
    "    sequences = []\n",
    "    for _ in range(num_samples):\n",
    "        input_seq = [random.randint(0, 9) for _ in range(seq_len)]\n",
    "        output_seq = [random.randint(0, 9) for _ in range(seq_len)]\n",
    "        sequences.append((input_seq, output_seq))\n",
    "    return sequences\n",
    "\n",
    "# Model\n",
    "class SimpleTransformer(nn.Module):\n",
    "    def __init__(self, vocab_size, d_model, nhead, num_layers):\n",
    "        super().__init__()\n",
    "        self.embedding = nn.Embedding(vocab_size, d_model)\n",
    "        self.transformer = LocalTransformer(d_model, nhead, num_layers)\n",
    "        self.output = nn.Linear(d_model, vocab_size)\n",
    "    \n",
    "    def forward(self, src, tgt):\n",
    "        src = self.embedding(src).permute(1, 0, 2)\n",
    "        tgt = self.embedding(tgt).permute(1, 0, 2)\n",
    "        output = self.transformer(src, tgt)\n",
    "        output = output.permute(1, 0, 2)\n",
    "        return self.output(output)\n",
    "\n",
    "# Hyperparameters\n",
    "num_samples = 1000\n",
    "seq_len = 10\n",
    "vocab_size = 10\n",
    "d_model = 32\n",
    "nhead = 4\n",
    "num_layers = 2\n",
    "epochs = 10\n",
    "batch_size = 32\n",
    "lr = 0.001\n",
    "\n",
    "# Prepare data\n",
    "dataset = generate_data(num_samples, seq_len)\n",
    "data_loader = data.DataLoader(dataset, batch_size=batch_size, shuffle=True, collate_fn=lambda x: x)\n",
    "\n",
    "# Initialize model, optimizer, and loss function\n",
    "device = torch.device(\"cuda\" if torch.cuda.is_available() else \"cpu\")\n",
    "model = SimpleTransformer(vocab_size, d_model, nhead, num_layers).to(device)\n",
    "optimizer = optim.Adam(model.parameters(), lr=lr)\n",
    "criterion = nn.CrossEntropyLoss()\n",
    "\n",
    "# Training loop\n",
    "for epoch in range(epochs):\n",
    "    model.train()\n",
    "    for batch in data_loader:\n",
    "        inputs, targets = zip(*batch)\n",
    "        inputs = torch.tensor(inputs, dtype=torch.long, device=device)\n",
    "        targets = torch.tensor(targets, dtype=torch.long, device=device)\n",
    "        \n",
    "        # Shift the targets for the transformer by 1 position\n",
    "        tgt_input = torch.cat([torch.zeros(targets.shape[0], 1, dtype=torch.long, device=device), targets[:, :-1]], dim=1)\n",
    "        \n",
    "        optimizer.zero_grad()\n",
    "        outputs = model(inputs, tgt_input)\n",
    "        loss = criterion(outputs.view(-1, vocab_size), targets.view(-1))\n",
    "        loss.backward()\n",
    "        optimizer.step()\n",
    "    \n",
    "    print(f\"Epoch {epoch + 1}/{epochs}, Loss: {loss.item()}\")"
   ]
  },
  {
   "cell_type": "code",
   "execution_count": 57,
   "id": "765ace15",
   "metadata": {},
   "outputs": [
    {
     "name": "stdout",
     "output_type": "stream",
     "text": [
      "tensor([[0., -inf, -inf, -inf, -inf, -inf, -inf, -inf, -inf, -inf, -inf, -inf, -inf, -inf, -inf],\n",
      "        [0., 0., -inf, -inf, -inf, -inf, -inf, -inf, -inf, -inf, -inf, -inf, -inf, -inf, -inf],\n",
      "        [0., 0., 0., -inf, -inf, -inf, -inf, -inf, -inf, -inf, -inf, -inf, -inf, -inf, -inf],\n",
      "        [0., 0., 0., 0., -inf, -inf, -inf, -inf, -inf, -inf, -inf, -inf, -inf, -inf, -inf],\n",
      "        [0., 0., 0., 0., 0., -inf, -inf, -inf, -inf, -inf, -inf, -inf, -inf, -inf, -inf],\n",
      "        [-inf, 0., 0., 0., 0., 0., -inf, -inf, -inf, -inf, -inf, -inf, -inf, -inf, -inf],\n",
      "        [-inf, -inf, 0., 0., 0., 0., 0., -inf, -inf, -inf, -inf, -inf, -inf, -inf, -inf],\n",
      "        [-inf, -inf, -inf, 0., 0., 0., 0., 0., -inf, -inf, -inf, -inf, -inf, -inf, -inf],\n",
      "        [-inf, -inf, -inf, -inf, 0., 0., 0., 0., 0., -inf, -inf, -inf, -inf, -inf, -inf],\n",
      "        [-inf, -inf, -inf, -inf, -inf, 0., 0., 0., 0., 0., -inf, -inf, -inf, -inf, -inf],\n",
      "        [-inf, -inf, -inf, -inf, -inf, -inf, 0., 0., 0., 0., 0., -inf, -inf, -inf, -inf],\n",
      "        [-inf, -inf, -inf, -inf, -inf, -inf, -inf, 0., 0., 0., 0., 0., -inf, -inf, -inf],\n",
      "        [-inf, -inf, -inf, -inf, -inf, -inf, -inf, -inf, 0., 0., 0., 0., 0., -inf, -inf],\n",
      "        [-inf, -inf, -inf, -inf, -inf, -inf, -inf, -inf, -inf, 0., 0., 0., 0., 0., -inf],\n",
      "        [-inf, -inf, -inf, -inf, -inf, -inf, -inf, -inf, -inf, -inf, 0., 0., 0., 0., 0.]])\n"
     ]
    }
   ],
   "source": []
  },
  {
   "cell_type": "code",
   "execution_count": 101,
   "id": "e3ec5740",
   "metadata": {},
   "outputs": [],
   "source": []
  },
  {
   "cell_type": "code",
   "execution_count": 102,
   "id": "afaecf60",
   "metadata": {},
   "outputs": [
    {
     "data": {
      "text/plain": [
       "tensor([[0., -inf, -inf, -inf, -inf, -inf, -inf, -inf, -inf, -inf],\n",
       "        [0., 0., -inf, -inf, -inf, -inf, -inf, -inf, -inf, -inf],\n",
       "        [0., 0., 0., -inf, -inf, -inf, -inf, -inf, -inf, -inf],\n",
       "        [0., 0., 0., 0., -inf, -inf, -inf, -inf, -inf, -inf],\n",
       "        [0., 0., 0., 0., 0., -inf, -inf, -inf, -inf, -inf],\n",
       "        [-inf, 0., 0., 0., 0., 0., -inf, -inf, -inf, -inf],\n",
       "        [-inf, -inf, 0., 0., 0., 0., 0., -inf, -inf, -inf],\n",
       "        [-inf, -inf, -inf, 0., 0., 0., 0., 0., -inf, -inf],\n",
       "        [-inf, -inf, -inf, -inf, 0., 0., 0., 0., 0., -inf],\n",
       "        [-inf, -inf, -inf, -inf, -inf, 0., 0., 0., 0., 0.]])"
      ]
     },
     "execution_count": 102,
     "metadata": {},
     "output_type": "execute_result"
    }
   ],
   "source": []
  },
  {
   "cell_type": "code",
   "execution_count": 96,
   "id": "40005f52",
   "metadata": {},
   "outputs": [
    {
     "data": {
      "text/plain": [
       "tensor([[1., 0., 0., 0., 0., 0., 0., 0., 0., 0.],\n",
       "        [1., 1., 0., 0., 0., 0., 0., 0., 0., 0.],\n",
       "        [0., 1., 1., 0., 0., 0., 0., 0., 0., 0.],\n",
       "        [0., 0., 1., 1., 0., 0., 0., 0., 0., 0.],\n",
       "        [0., 0., 0., 1., 1., 0., 0., 0., 0., 0.],\n",
       "        [0., 0., 0., 0., 1., 1., 0., 0., 0., 0.],\n",
       "        [0., 0., 0., 0., 0., 1., 1., 0., 0., 0.],\n",
       "        [0., 0., 0., 0., 0., 0., 1., 1., 0., 0.],\n",
       "        [0., 0., 0., 0., 0., 0., 0., 1., 1., 0.],\n",
       "        [0., 0., 0., 0., 0., 0., 0., 0., 1., 1.]])"
      ]
     },
     "execution_count": 96,
     "metadata": {},
     "output_type": "execute_result"
    }
   ],
   "source": []
  },
  {
   "cell_type": "code",
   "execution_count": 107,
   "id": "8ba3ebeb",
   "metadata": {},
   "outputs": [
    {
     "data": {
      "text/plain": [
       "1"
      ]
     },
     "execution_count": 107,
     "metadata": {},
     "output_type": "execute_result"
    }
   ],
   "source": []
  },
  {
   "cell_type": "code",
   "execution_count": null,
   "id": "9e8583ca",
   "metadata": {},
   "outputs": [],
   "source": []
  }
 ],
 "metadata": {
  "kernelspec": {
   "display_name": "Python 3 (ipykernel)",
   "language": "python",
   "name": "python3"
  },
  "language_info": {
   "codemirror_mode": {
    "name": "ipython",
    "version": 3
   },
   "file_extension": ".py",
   "mimetype": "text/x-python",
   "name": "python",
   "nbconvert_exporter": "python",
   "pygments_lexer": "ipython3",
   "version": "3.9.12"
  }
 },
 "nbformat": 4,
 "nbformat_minor": 5
}
